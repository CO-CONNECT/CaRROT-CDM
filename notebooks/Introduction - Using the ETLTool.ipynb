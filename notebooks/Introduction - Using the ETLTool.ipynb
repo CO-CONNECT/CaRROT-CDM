{
 "cells": [
  {
   "cell_type": "markdown",
   "metadata": {},
   "source": [
    "[![Binder](https://mybinder.org/badge_logo.svg)](https://mybinder.org/v2/gh/CO-CONNECT/co-connect-tools/HEAD)\n",
    "\n",
    "\n",
    "## Installing\n",
    "\n",
    "The best way is to install the module via `pip`. "
   ]
  },
  {
   "cell_type": "code",
   "execution_count": null,
   "metadata": {
    "scrolled": true
   },
   "outputs": [],
   "source": [
    "!pip3 install co-connect-tools -q"
   ]
  },
  {
   "cell_type": "code",
   "execution_count": null,
   "metadata": {},
   "outputs": [],
   "source": []
  },
  {
   "cell_type": "code",
   "execution_count": 1,
   "metadata": {},
   "outputs": [
    {
     "name": "stdout",
     "output_type": "stream",
     "text": [
      "Recreating file /Users/calummacdonald/Usher/CO-CONNECT/Software/docs/docs/co-connect-tools/coconnect/cdm/classes/Panther.py\n"
     ]
    }
   ],
   "source": [
    "import coconnect.tools\n",
    "data = coconnect.tools.load_json('example/sample_config/panther_structural_mapping.json')\n",
    "coconnect.tools.extract.make_class(data,'Panther')"
   ]
  },
  {
   "cell_type": "code",
   "execution_count": 2,
   "metadata": {},
   "outputs": [
    {
     "name": "stdout",
     "output_type": "stream",
     "text": [
      "{\n",
      "      \"Panther\": {\n",
      "            \"module\": \"coconnect.cdm.classes.Panther\",\n",
      "            \"path\": \"/Users/calummacdonald/Usher/CO-CONNECT/Software/docs/docs/co-connect-tools/coconnect/cdm/classes/Panther.py\",\n",
      "            \"last-modified\": \"2021-03-31 11:58:08\"\n",
      "      }\n",
      "}\n"
     ]
    }
   ],
   "source": [
    "print (coconnect.tools.get_classes(format=True))"
   ]
  },
  {
   "cell_type": "code",
   "execution_count": 3,
   "metadata": {},
   "outputs": [
    {
     "data": {
      "text/plain": [
       "{'tracker.csv': '/Users/calummacdonald/Usher/CO-CONNECT/Software/docs/docs/co-connect-tools/coconnect/data/example/sample_input_data/tracker.csv',\n",
       " 'demographic.csv': '/Users/calummacdonald/Usher/CO-CONNECT/Software/docs/docs/co-connect-tools/coconnect/data/example/sample_input_data/demographic.csv',\n",
       " 'questionnaire.csv': '/Users/calummacdonald/Usher/CO-CONNECT/Software/docs/docs/co-connect-tools/coconnect/data/example/sample_input_data/questionnaire.csv'}"
      ]
     },
     "execution_count": 3,
     "metadata": {},
     "output_type": "execute_result"
    }
   ],
   "source": [
    "f_map = coconnect.tools.get_file_map_from_dir('example/sample_input_data/')\n",
    "f_map"
   ]
  },
  {
   "cell_type": "code",
   "execution_count": 4,
   "metadata": {
    "scrolled": false
   },
   "outputs": [],
   "source": [
    "inputs = coconnect.tools.load_csv(f_map)"
   ]
  },
  {
   "cell_type": "code",
   "execution_count": 5,
   "metadata": {},
   "outputs": [
    {
     "name": "stderr",
     "output_type": "stream",
     "text": [
      "\u001b[32m2021-03-31 11:58:09\u001b[0m - \u001b[34mPanther\u001b[0m - \u001b[1;37mINFO\u001b[0m - CommonDataModel created\n",
      "\u001b[32m2021-03-31 11:58:09\u001b[0m - \u001b[34mPanther\u001b[0m - \u001b[1;37mWARNING\u001b[0m - \u001b[33mtrying to set index 'id number' for 'classifedroledata.csv' but this has not been loaded as an inputs!\u001b[0m\n",
      "\u001b[32m2021-03-31 11:58:09\u001b[0m - \u001b[34mPanther\u001b[0m - \u001b[1;37mWARNING\u001b[0m - \u001b[33mtrying to set index 'serum 7patient id' for 'freezer.csv' but this has not been loaded as an inputs!\u001b[0m\n",
      "\u001b[32m2021-03-31 11:58:09\u001b[0m - \u001b[34mPanther\u001b[0m - \u001b[1;37mWARNING\u001b[0m - \u001b[33mtrying to set index 'sample id' for 'hta log 04062020.csv' but this has not been loaded as an inputs!\u001b[0m\n",
      "\u001b[32m2021-03-31 11:58:09\u001b[0m - \u001b[34mPanther\u001b[0m - \u001b[1;37mWARNING\u001b[0m - \u001b[33mtrying to set index 'patient id' for 'serum 1.csv' but this has not been loaded as an inputs!\u001b[0m\n",
      "\u001b[32m2021-03-31 11:58:09\u001b[0m - \u001b[34mPanther\u001b[0m - \u001b[1;37mWARNING\u001b[0m - \u001b[33mtrying to set index 'patient id' for 'serum short.csv' but this has not been loaded as an inputs!\u001b[0m\n",
      "\u001b[32m2021-03-31 11:58:09\u001b[0m - \u001b[34mPanther\u001b[0m - \u001b[1;37mWARNING\u001b[0m - \u001b[33mtrying to set index 'id' for 'visit 1.csv' but this has not been loaded as an inputs!\u001b[0m\n"
     ]
    }
   ],
   "source": [
    "from coconnect.cdm.classes.Panther import Panther\n",
    "panther = Panther(inputs=inputs)"
   ]
  },
  {
   "cell_type": "code",
   "execution_count": 6,
   "metadata": {},
   "outputs": [
    {
     "name": "stderr",
     "output_type": "stream",
     "text": [
      "\u001b[32m2021-03-31 11:58:09\u001b[0m - \u001b[34mPanther\u001b[0m - \u001b[1;37mINFO\u001b[0m - for person: found 1 object\n",
      "\u001b[32m2021-03-31 11:58:09\u001b[0m - \u001b[34mPanther\u001b[0m - \u001b[1;37mINFO\u001b[0m - working on <class 'coconnect.cdm.objects.person.Person'>\n",
      "\u001b[32m2021-03-31 11:58:10\u001b[0m - \u001b[34mperson_0\u001b[0m - \u001b[1;37mWARNING\u001b[0m - \u001b[33mperson_id 7680/10000 indicies (person_id) are duplicated\u001b[0m\n",
      "\u001b[32m2021-03-31 11:58:10\u001b[0m - \u001b[34mperson_0\u001b[0m - \u001b[1;37mWARNING\u001b[0m - \u001b[33m      if this is synthetic data... dont worry about it\u001b[0m\n",
      "\u001b[32m2021-03-31 11:58:10\u001b[0m - \u001b[34mperson_0\u001b[0m - \u001b[1;37mWARNING\u001b[0m - \u001b[33mgender_concept_id 9367/10000 indicies (person_id) are duplicated\u001b[0m\n",
      "\u001b[32m2021-03-31 11:58:10\u001b[0m - \u001b[34mperson_0\u001b[0m - \u001b[1;37mWARNING\u001b[0m - \u001b[33m      if this is synthetic data... dont worry about it\u001b[0m\n",
      "\u001b[32m2021-03-31 11:58:10\u001b[0m - \u001b[34mperson_0\u001b[0m - \u001b[1;37mWARNING\u001b[0m - \u001b[33myear_of_birth 9371/10000 indicies (person_id) are duplicated\u001b[0m\n",
      "\u001b[32m2021-03-31 11:58:10\u001b[0m - \u001b[34mperson_0\u001b[0m - \u001b[1;37mWARNING\u001b[0m - \u001b[33m      if this is synthetic data... dont worry about it\u001b[0m\n",
      "\u001b[32m2021-03-31 11:58:10\u001b[0m - \u001b[34mperson_0\u001b[0m - \u001b[1;37mWARNING\u001b[0m - \u001b[33mmonth_of_birth 9371/10000 indicies (person_id) are duplicated\u001b[0m\n",
      "\u001b[32m2021-03-31 11:58:10\u001b[0m - \u001b[34mperson_0\u001b[0m - \u001b[1;37mWARNING\u001b[0m - \u001b[33m      if this is synthetic data... dont worry about it\u001b[0m\n",
      "\u001b[32m2021-03-31 11:58:10\u001b[0m - \u001b[34mperson_0\u001b[0m - \u001b[1;37mWARNING\u001b[0m - \u001b[33mday_of_birth 9371/10000 indicies (person_id) are duplicated\u001b[0m\n",
      "\u001b[32m2021-03-31 11:58:10\u001b[0m - \u001b[34mperson_0\u001b[0m - \u001b[1;37mWARNING\u001b[0m - \u001b[33m      if this is synthetic data... dont worry about it\u001b[0m\n",
      "\u001b[32m2021-03-31 11:58:10\u001b[0m - \u001b[34mperson_0\u001b[0m - \u001b[1;37mWARNING\u001b[0m - \u001b[33mbirth_datetime 9371/10000 indicies (person_id) are duplicated\u001b[0m\n",
      "\u001b[32m2021-03-31 11:58:10\u001b[0m - \u001b[34mperson_0\u001b[0m - \u001b[1;37mWARNING\u001b[0m - \u001b[33m      if this is synthetic data... dont worry about it\u001b[0m\n",
      "\u001b[32m2021-03-31 11:58:10\u001b[0m - \u001b[34mperson_0\u001b[0m - \u001b[1;37mWARNING\u001b[0m - \u001b[33mrace_concept_id 9367/10000 indicies (person_id) are duplicated\u001b[0m\n",
      "\u001b[32m2021-03-31 11:58:10\u001b[0m - \u001b[34mperson_0\u001b[0m - \u001b[1;37mWARNING\u001b[0m - \u001b[33m      if this is synthetic data... dont worry about it\u001b[0m\n",
      "\u001b[32m2021-03-31 11:58:10\u001b[0m - \u001b[34mperson_0\u001b[0m - \u001b[1;37mWARNING\u001b[0m - \u001b[33mlocation_id 9367/10000 indicies (person_id) are duplicated\u001b[0m\n",
      "\u001b[32m2021-03-31 11:58:10\u001b[0m - \u001b[34mperson_0\u001b[0m - \u001b[1;37mWARNING\u001b[0m - \u001b[33m      if this is synthetic data... dont worry about it\u001b[0m\n",
      "\u001b[32m2021-03-31 11:58:10\u001b[0m - \u001b[34mperson_0\u001b[0m - \u001b[1;37mWARNING\u001b[0m - \u001b[33mgender_source_value 9367/10000 indicies (person_id) are duplicated\u001b[0m\n",
      "\u001b[32m2021-03-31 11:58:10\u001b[0m - \u001b[34mperson_0\u001b[0m - \u001b[1;37mWARNING\u001b[0m - \u001b[33m      if this is synthetic data... dont worry about it\u001b[0m\n",
      "\u001b[32m2021-03-31 11:58:10\u001b[0m - \u001b[34mperson_0\u001b[0m - \u001b[1;37mWARNING\u001b[0m - \u001b[33mgender_source_concept_id 9367/10000 indicies (person_id) are duplicated\u001b[0m\n",
      "\u001b[32m2021-03-31 11:58:10\u001b[0m - \u001b[34mperson_0\u001b[0m - \u001b[1;37mWARNING\u001b[0m - \u001b[33m      if this is synthetic data... dont worry about it\u001b[0m\n",
      "\u001b[32m2021-03-31 11:58:10\u001b[0m - \u001b[34mperson_0\u001b[0m - \u001b[1;37mWARNING\u001b[0m - \u001b[33mrace_source_value 9367/10000 indicies (person_id) are duplicated\u001b[0m\n",
      "\u001b[32m2021-03-31 11:58:10\u001b[0m - \u001b[34mperson_0\u001b[0m - \u001b[1;37mWARNING\u001b[0m - \u001b[33m      if this is synthetic data... dont worry about it\u001b[0m\n",
      "\u001b[32m2021-03-31 11:58:10\u001b[0m - \u001b[34mperson_0\u001b[0m - \u001b[1;37mWARNING\u001b[0m - \u001b[33mrace_source_concept_id 9367/10000 indicies (person_id) are duplicated\u001b[0m\n",
      "\u001b[32m2021-03-31 11:58:10\u001b[0m - \u001b[34mperson_0\u001b[0m - \u001b[1;37mWARNING\u001b[0m - \u001b[33m      if this is synthetic data... dont worry about it\u001b[0m\n",
      "\u001b[32m2021-03-31 11:58:10\u001b[0m - \u001b[34mPanther\u001b[0m - \u001b[1;37mINFO\u001b[0m - finished person_0 ... 0/1, 2953 rows\n",
      "\u001b[32m2021-03-31 11:58:10\u001b[0m - \u001b[34mPanther\u001b[0m - \u001b[1;37mINFO\u001b[0m - Merging 1 objects for <class 'coconnect.cdm.objects.person.Person'>\n",
      "\u001b[32m2021-03-31 11:58:10\u001b[0m - \u001b[34mPanther\u001b[0m - \u001b[1;37mINFO\u001b[0m - Finalising <class 'coconnect.cdm.objects.person.Person'>\n",
      "\u001b[32m2021-03-31 11:58:10\u001b[0m - \u001b[34mperson_0\u001b[0m - \u001b[1;37mINFO\u001b[0m - Just masked person_id\n",
      "\u001b[32m2021-03-31 11:58:10\u001b[0m - \u001b[34mPanther\u001b[0m - \u001b[1;37mINFO\u001b[0m - Formating the output for <class 'coconnect.cdm.objects.person.Person'>\n",
      "\u001b[32m2021-03-31 11:58:10\u001b[0m - \u001b[34mPanther\u001b[0m - \u001b[1;37mINFO\u001b[0m - finalised person\n",
      "\u001b[32m2021-03-31 11:58:10\u001b[0m - \u001b[34mPanther\u001b[0m - \u001b[1;37mINFO\u001b[0m - for condition_occurrence: found 0 object\n",
      "\u001b[32m2021-03-31 11:58:10\u001b[0m - \u001b[34mPanther\u001b[0m - \u001b[1;37mINFO\u001b[0m - finalised condition_occurrence\n",
      "\u001b[32m2021-03-31 11:58:10\u001b[0m - \u001b[34mPanther\u001b[0m - \u001b[1;37mINFO\u001b[0m - for visit_occurrence: found 0 object\n",
      "\u001b[32m2021-03-31 11:58:10\u001b[0m - \u001b[34mPanther\u001b[0m - \u001b[1;37mINFO\u001b[0m - finalised visit_occurrence\n",
      "\u001b[32m2021-03-31 11:58:10\u001b[0m - \u001b[34mPanther\u001b[0m - \u001b[1;37mINFO\u001b[0m - for measurement: found 0 object\n",
      "\u001b[32m2021-03-31 11:58:10\u001b[0m - \u001b[34mPanther\u001b[0m - \u001b[1;37mINFO\u001b[0m - finalised measurement\n",
      "\u001b[32m2021-03-31 11:58:10\u001b[0m - \u001b[34mPanther\u001b[0m - \u001b[1;37mINFO\u001b[0m - saving person to output_data//person.csv\n",
      "\u001b[32m2021-03-31 11:58:10\u001b[0m - \u001b[34mPanther\u001b[0m - \u001b[1;37mINFO\u001b[0m -            gender_concept_id  year_of_birth  month_of_birth  day_of_birth  \\\n",
      "person_id                                                                   \n",
      "1                       <NA>           <NA>            <NA>          <NA>   \n",
      "2                       <NA>           <NA>            <NA>          <NA>   \n",
      "3                       <NA>           <NA>            <NA>          <NA>   \n",
      "4                       <NA>           <NA>            <NA>          <NA>   \n",
      "5                       <NA>           <NA>            <NA>          <NA>   \n",
      "...                      ...            ...             ...           ...   \n",
      "2321                    8532           1973               1             5   \n",
      "2321                    8507           1993               3             9   \n",
      "2321                    8532           1967               3            28   \n",
      "2321                    8507           1959               7            19   \n",
      "2321                    8532           1976              10            11   \n",
      "\n",
      "                birth_datetime  race_concept_id  location_id  \\\n",
      "person_id                                                      \n",
      "1                          NaN             <NA>         <NA>   \n",
      "2                          NaN             <NA>         <NA>   \n",
      "3                          NaN             <NA>         <NA>   \n",
      "4                          NaN             <NA>         <NA>   \n",
      "5                          NaN             <NA>         <NA>   \n",
      "...                        ...              ...          ...   \n",
      "2321       1973-01-05 00:00:00          4196428      4021920   \n",
      "2321       1993-03-09 00:00:00          4185920         <NA>   \n",
      "2321       1967-03-28 00:00:00          4196428      4021920   \n",
      "2321       1959-07-19 00:00:00          4196428      4021920   \n",
      "2321       1976-10-11 00:00:00          4196428      4021920   \n",
      "\n",
      "          person_source_value gender_source_value  gender_source_concept_id  \\\n",
      "person_id                                                                     \n",
      "1                                                                      <NA>   \n",
      "2                                                                      <NA>   \n",
      "3                                                                      <NA>   \n",
      "4                                                                      <NA>   \n",
      "5                                                                      <NA>   \n",
      "...                       ...                 ...                       ...   \n",
      "2321                                            F                      8532   \n",
      "2321                                            M                      8507   \n",
      "2321                                            F                      8532   \n",
      "2321                                            M                      8507   \n",
      "2321                                            F                      8532   \n",
      "\n",
      "          race_source_value  race_source_concept_id ethnicity_source_value  \n",
      "person_id                                                                   \n",
      "1                                              <NA>                         \n",
      "2                                              <NA>                         \n",
      "3                                              <NA>                         \n",
      "4                                              <NA>                         \n",
      "5                                              <NA>                         \n",
      "...                     ...                     ...                    ...  \n",
      "2321          WHITE BRITISH                 4196428                         \n",
      "2321                 INDIAN                 4185920                         \n",
      "2321          WHITE BRITISH                 4196428                         \n",
      "2321          WHITE BRITISH                 4196428                         \n",
      "2321          WHITE BRITISH                 4196428                         \n",
      "\n",
      "[2953 rows x 13 columns]\n"
     ]
    }
   ],
   "source": [
    "panther.process()"
   ]
  },
  {
   "cell_type": "code",
   "execution_count": 7,
   "metadata": {},
   "outputs": [
    {
     "data": {
      "text/html": [
       "<div>\n",
       "<style scoped>\n",
       "    .dataframe tbody tr th:only-of-type {\n",
       "        vertical-align: middle;\n",
       "    }\n",
       "\n",
       "    .dataframe tbody tr th {\n",
       "        vertical-align: top;\n",
       "    }\n",
       "\n",
       "    .dataframe thead th {\n",
       "        text-align: right;\n",
       "    }\n",
       "</style>\n",
       "<table border=\"1\" class=\"dataframe\">\n",
       "  <thead>\n",
       "    <tr style=\"text-align: right;\">\n",
       "      <th></th>\n",
       "      <th>gender_concept_id</th>\n",
       "      <th>year_of_birth</th>\n",
       "      <th>month_of_birth</th>\n",
       "      <th>day_of_birth</th>\n",
       "      <th>birth_datetime</th>\n",
       "      <th>race_concept_id</th>\n",
       "      <th>ethnicity_concept_id</th>\n",
       "      <th>location_id</th>\n",
       "      <th>provider_id</th>\n",
       "      <th>care_site_id</th>\n",
       "      <th>person_source_value</th>\n",
       "      <th>gender_source_value</th>\n",
       "      <th>gender_source_concept_id</th>\n",
       "      <th>race_source_value</th>\n",
       "      <th>race_source_concept_id</th>\n",
       "      <th>ethnicity_source_value</th>\n",
       "      <th>ethnicity_source_concept_id</th>\n",
       "    </tr>\n",
       "    <tr>\n",
       "      <th>person_id</th>\n",
       "      <th></th>\n",
       "      <th></th>\n",
       "      <th></th>\n",
       "      <th></th>\n",
       "      <th></th>\n",
       "      <th></th>\n",
       "      <th></th>\n",
       "      <th></th>\n",
       "      <th></th>\n",
       "      <th></th>\n",
       "      <th></th>\n",
       "      <th></th>\n",
       "      <th></th>\n",
       "      <th></th>\n",
       "      <th></th>\n",
       "      <th></th>\n",
       "      <th></th>\n",
       "    </tr>\n",
       "  </thead>\n",
       "  <tbody>\n",
       "    <tr>\n",
       "      <th>1</th>\n",
       "      <td>&lt;NA&gt;</td>\n",
       "      <td>&lt;NA&gt;</td>\n",
       "      <td>&lt;NA&gt;</td>\n",
       "      <td>&lt;NA&gt;</td>\n",
       "      <td>NaN</td>\n",
       "      <td>&lt;NA&gt;</td>\n",
       "      <td>&lt;NA&gt;</td>\n",
       "      <td>&lt;NA&gt;</td>\n",
       "      <td>&lt;NA&gt;</td>\n",
       "      <td>&lt;NA&gt;</td>\n",
       "      <td></td>\n",
       "      <td></td>\n",
       "      <td>&lt;NA&gt;</td>\n",
       "      <td></td>\n",
       "      <td>&lt;NA&gt;</td>\n",
       "      <td></td>\n",
       "      <td>&lt;NA&gt;</td>\n",
       "    </tr>\n",
       "    <tr>\n",
       "      <th>2</th>\n",
       "      <td>&lt;NA&gt;</td>\n",
       "      <td>&lt;NA&gt;</td>\n",
       "      <td>&lt;NA&gt;</td>\n",
       "      <td>&lt;NA&gt;</td>\n",
       "      <td>NaN</td>\n",
       "      <td>&lt;NA&gt;</td>\n",
       "      <td>&lt;NA&gt;</td>\n",
       "      <td>&lt;NA&gt;</td>\n",
       "      <td>&lt;NA&gt;</td>\n",
       "      <td>&lt;NA&gt;</td>\n",
       "      <td></td>\n",
       "      <td></td>\n",
       "      <td>&lt;NA&gt;</td>\n",
       "      <td></td>\n",
       "      <td>&lt;NA&gt;</td>\n",
       "      <td></td>\n",
       "      <td>&lt;NA&gt;</td>\n",
       "    </tr>\n",
       "    <tr>\n",
       "      <th>3</th>\n",
       "      <td>&lt;NA&gt;</td>\n",
       "      <td>&lt;NA&gt;</td>\n",
       "      <td>&lt;NA&gt;</td>\n",
       "      <td>&lt;NA&gt;</td>\n",
       "      <td>NaN</td>\n",
       "      <td>&lt;NA&gt;</td>\n",
       "      <td>&lt;NA&gt;</td>\n",
       "      <td>&lt;NA&gt;</td>\n",
       "      <td>&lt;NA&gt;</td>\n",
       "      <td>&lt;NA&gt;</td>\n",
       "      <td></td>\n",
       "      <td></td>\n",
       "      <td>&lt;NA&gt;</td>\n",
       "      <td></td>\n",
       "      <td>&lt;NA&gt;</td>\n",
       "      <td></td>\n",
       "      <td>&lt;NA&gt;</td>\n",
       "    </tr>\n",
       "    <tr>\n",
       "      <th>4</th>\n",
       "      <td>&lt;NA&gt;</td>\n",
       "      <td>&lt;NA&gt;</td>\n",
       "      <td>&lt;NA&gt;</td>\n",
       "      <td>&lt;NA&gt;</td>\n",
       "      <td>NaN</td>\n",
       "      <td>&lt;NA&gt;</td>\n",
       "      <td>&lt;NA&gt;</td>\n",
       "      <td>&lt;NA&gt;</td>\n",
       "      <td>&lt;NA&gt;</td>\n",
       "      <td>&lt;NA&gt;</td>\n",
       "      <td></td>\n",
       "      <td></td>\n",
       "      <td>&lt;NA&gt;</td>\n",
       "      <td></td>\n",
       "      <td>&lt;NA&gt;</td>\n",
       "      <td></td>\n",
       "      <td>&lt;NA&gt;</td>\n",
       "    </tr>\n",
       "    <tr>\n",
       "      <th>5</th>\n",
       "      <td>&lt;NA&gt;</td>\n",
       "      <td>&lt;NA&gt;</td>\n",
       "      <td>&lt;NA&gt;</td>\n",
       "      <td>&lt;NA&gt;</td>\n",
       "      <td>NaN</td>\n",
       "      <td>&lt;NA&gt;</td>\n",
       "      <td>&lt;NA&gt;</td>\n",
       "      <td>&lt;NA&gt;</td>\n",
       "      <td>&lt;NA&gt;</td>\n",
       "      <td>&lt;NA&gt;</td>\n",
       "      <td></td>\n",
       "      <td></td>\n",
       "      <td>&lt;NA&gt;</td>\n",
       "      <td></td>\n",
       "      <td>&lt;NA&gt;</td>\n",
       "      <td></td>\n",
       "      <td>&lt;NA&gt;</td>\n",
       "    </tr>\n",
       "    <tr>\n",
       "      <th>...</th>\n",
       "      <td>...</td>\n",
       "      <td>...</td>\n",
       "      <td>...</td>\n",
       "      <td>...</td>\n",
       "      <td>...</td>\n",
       "      <td>...</td>\n",
       "      <td>...</td>\n",
       "      <td>...</td>\n",
       "      <td>...</td>\n",
       "      <td>...</td>\n",
       "      <td>...</td>\n",
       "      <td>...</td>\n",
       "      <td>...</td>\n",
       "      <td>...</td>\n",
       "      <td>...</td>\n",
       "      <td>...</td>\n",
       "      <td>...</td>\n",
       "    </tr>\n",
       "    <tr>\n",
       "      <th>2321</th>\n",
       "      <td>8532</td>\n",
       "      <td>1973</td>\n",
       "      <td>1</td>\n",
       "      <td>5</td>\n",
       "      <td>1973-01-05 00:00:00</td>\n",
       "      <td>4196428</td>\n",
       "      <td>&lt;NA&gt;</td>\n",
       "      <td>4021920</td>\n",
       "      <td>&lt;NA&gt;</td>\n",
       "      <td>&lt;NA&gt;</td>\n",
       "      <td></td>\n",
       "      <td>F</td>\n",
       "      <td>8532</td>\n",
       "      <td>WHITE BRITISH</td>\n",
       "      <td>4196428</td>\n",
       "      <td></td>\n",
       "      <td>&lt;NA&gt;</td>\n",
       "    </tr>\n",
       "    <tr>\n",
       "      <th>2321</th>\n",
       "      <td>8507</td>\n",
       "      <td>1993</td>\n",
       "      <td>3</td>\n",
       "      <td>9</td>\n",
       "      <td>1993-03-09 00:00:00</td>\n",
       "      <td>4185920</td>\n",
       "      <td>&lt;NA&gt;</td>\n",
       "      <td>&lt;NA&gt;</td>\n",
       "      <td>&lt;NA&gt;</td>\n",
       "      <td>&lt;NA&gt;</td>\n",
       "      <td></td>\n",
       "      <td>M</td>\n",
       "      <td>8507</td>\n",
       "      <td>INDIAN</td>\n",
       "      <td>4185920</td>\n",
       "      <td></td>\n",
       "      <td>&lt;NA&gt;</td>\n",
       "    </tr>\n",
       "    <tr>\n",
       "      <th>2321</th>\n",
       "      <td>8532</td>\n",
       "      <td>1967</td>\n",
       "      <td>3</td>\n",
       "      <td>28</td>\n",
       "      <td>1967-03-28 00:00:00</td>\n",
       "      <td>4196428</td>\n",
       "      <td>&lt;NA&gt;</td>\n",
       "      <td>4021920</td>\n",
       "      <td>&lt;NA&gt;</td>\n",
       "      <td>&lt;NA&gt;</td>\n",
       "      <td></td>\n",
       "      <td>F</td>\n",
       "      <td>8532</td>\n",
       "      <td>WHITE BRITISH</td>\n",
       "      <td>4196428</td>\n",
       "      <td></td>\n",
       "      <td>&lt;NA&gt;</td>\n",
       "    </tr>\n",
       "    <tr>\n",
       "      <th>2321</th>\n",
       "      <td>8507</td>\n",
       "      <td>1959</td>\n",
       "      <td>7</td>\n",
       "      <td>19</td>\n",
       "      <td>1959-07-19 00:00:00</td>\n",
       "      <td>4196428</td>\n",
       "      <td>&lt;NA&gt;</td>\n",
       "      <td>4021920</td>\n",
       "      <td>&lt;NA&gt;</td>\n",
       "      <td>&lt;NA&gt;</td>\n",
       "      <td></td>\n",
       "      <td>M</td>\n",
       "      <td>8507</td>\n",
       "      <td>WHITE BRITISH</td>\n",
       "      <td>4196428</td>\n",
       "      <td></td>\n",
       "      <td>&lt;NA&gt;</td>\n",
       "    </tr>\n",
       "    <tr>\n",
       "      <th>2321</th>\n",
       "      <td>8532</td>\n",
       "      <td>1976</td>\n",
       "      <td>10</td>\n",
       "      <td>11</td>\n",
       "      <td>1976-10-11 00:00:00</td>\n",
       "      <td>4196428</td>\n",
       "      <td>&lt;NA&gt;</td>\n",
       "      <td>4021920</td>\n",
       "      <td>&lt;NA&gt;</td>\n",
       "      <td>&lt;NA&gt;</td>\n",
       "      <td></td>\n",
       "      <td>F</td>\n",
       "      <td>8532</td>\n",
       "      <td>WHITE BRITISH</td>\n",
       "      <td>4196428</td>\n",
       "      <td></td>\n",
       "      <td>&lt;NA&gt;</td>\n",
       "    </tr>\n",
       "  </tbody>\n",
       "</table>\n",
       "<p>2953 rows × 17 columns</p>\n",
       "</div>"
      ],
      "text/plain": [
       "           gender_concept_id  year_of_birth  month_of_birth  day_of_birth  \\\n",
       "person_id                                                                   \n",
       "1                       <NA>           <NA>            <NA>          <NA>   \n",
       "2                       <NA>           <NA>            <NA>          <NA>   \n",
       "3                       <NA>           <NA>            <NA>          <NA>   \n",
       "4                       <NA>           <NA>            <NA>          <NA>   \n",
       "5                       <NA>           <NA>            <NA>          <NA>   \n",
       "...                      ...            ...             ...           ...   \n",
       "2321                    8532           1973               1             5   \n",
       "2321                    8507           1993               3             9   \n",
       "2321                    8532           1967               3            28   \n",
       "2321                    8507           1959               7            19   \n",
       "2321                    8532           1976              10            11   \n",
       "\n",
       "                birth_datetime  race_concept_id  ethnicity_concept_id  \\\n",
       "person_id                                                               \n",
       "1                          NaN             <NA>                  <NA>   \n",
       "2                          NaN             <NA>                  <NA>   \n",
       "3                          NaN             <NA>                  <NA>   \n",
       "4                          NaN             <NA>                  <NA>   \n",
       "5                          NaN             <NA>                  <NA>   \n",
       "...                        ...              ...                   ...   \n",
       "2321       1973-01-05 00:00:00          4196428                  <NA>   \n",
       "2321       1993-03-09 00:00:00          4185920                  <NA>   \n",
       "2321       1967-03-28 00:00:00          4196428                  <NA>   \n",
       "2321       1959-07-19 00:00:00          4196428                  <NA>   \n",
       "2321       1976-10-11 00:00:00          4196428                  <NA>   \n",
       "\n",
       "           location_id  provider_id  care_site_id person_source_value  \\\n",
       "person_id                                                               \n",
       "1                 <NA>         <NA>          <NA>                       \n",
       "2                 <NA>         <NA>          <NA>                       \n",
       "3                 <NA>         <NA>          <NA>                       \n",
       "4                 <NA>         <NA>          <NA>                       \n",
       "5                 <NA>         <NA>          <NA>                       \n",
       "...                ...          ...           ...                 ...   \n",
       "2321           4021920         <NA>          <NA>                       \n",
       "2321              <NA>         <NA>          <NA>                       \n",
       "2321           4021920         <NA>          <NA>                       \n",
       "2321           4021920         <NA>          <NA>                       \n",
       "2321           4021920         <NA>          <NA>                       \n",
       "\n",
       "          gender_source_value  gender_source_concept_id race_source_value  \\\n",
       "person_id                                                                   \n",
       "1                                                  <NA>                     \n",
       "2                                                  <NA>                     \n",
       "3                                                  <NA>                     \n",
       "4                                                  <NA>                     \n",
       "5                                                  <NA>                     \n",
       "...                       ...                       ...               ...   \n",
       "2321                        F                      8532     WHITE BRITISH   \n",
       "2321                        M                      8507            INDIAN   \n",
       "2321                        F                      8532     WHITE BRITISH   \n",
       "2321                        M                      8507     WHITE BRITISH   \n",
       "2321                        F                      8532     WHITE BRITISH   \n",
       "\n",
       "           race_source_concept_id ethnicity_source_value  \\\n",
       "person_id                                                  \n",
       "1                            <NA>                          \n",
       "2                            <NA>                          \n",
       "3                            <NA>                          \n",
       "4                            <NA>                          \n",
       "5                            <NA>                          \n",
       "...                           ...                    ...   \n",
       "2321                      4196428                          \n",
       "2321                      4185920                          \n",
       "2321                      4196428                          \n",
       "2321                      4196428                          \n",
       "2321                      4196428                          \n",
       "\n",
       "           ethnicity_source_concept_id  \n",
       "person_id                               \n",
       "1                                 <NA>  \n",
       "2                                 <NA>  \n",
       "3                                 <NA>  \n",
       "4                                 <NA>  \n",
       "5                                 <NA>  \n",
       "...                                ...  \n",
       "2321                              <NA>  \n",
       "2321                              <NA>  \n",
       "2321                              <NA>  \n",
       "2321                              <NA>  \n",
       "2321                              <NA>  \n",
       "\n",
       "[2953 rows x 17 columns]"
      ]
     },
     "execution_count": 7,
     "metadata": {},
     "output_type": "execute_result"
    }
   ],
   "source": [
    "panther.omop['person']"
   ]
  },
  {
   "cell_type": "markdown",
   "metadata": {},
   "source": [
    "## Load Inputs\n",
    "\n",
    "To run the tool you need to load some input datasets, and specify how to map the fields \n",
    "\n",
    "The data will be loaded into pandas dataframes that we'll use for some visualisations of what the input `csv` files will look like"
   ]
  },
  {
   "cell_type": "markdown",
   "metadata": {},
   "source": [
    "### Source data\n",
    "\n",
    "This data is synthetic data that has been produced by [OHDSI](http://ohdsi.org/) which simply details a record of patients."
   ]
  },
  {
   "cell_type": "markdown",
   "metadata": {},
   "source": [
    "_Note: that these example data files will be stored in `<install_dir>/lib/python3.8/site-packages/coconnect/`, a directory that `ETLTool` will be looking in. For your own files, you should specify the full path to the inputs_"
   ]
  },
  {
   "cell_type": "code",
   "execution_count": null,
   "metadata": {},
   "outputs": [],
   "source": [
    "f_input_data = 'sample_input_data/patients_sample.csv'\n",
    "etltool.load_input_data([f_input_data])"
   ]
  },
  {
   "cell_type": "markdown",
   "metadata": {},
   "source": [
    "Verify what files have been loaded, by default the input dataset is mapped to to a name via `/path/<name>.csv`"
   ]
  },
  {
   "cell_type": "code",
   "execution_count": null,
   "metadata": {},
   "outputs": [],
   "source": [
    "etltool.get_input_names()"
   ]
  },
  {
   "cell_type": "markdown",
   "metadata": {},
   "source": [
    "Sample (3 entries) what this input data looks like. __Note__ becareful using this method with a large dataset"
   ]
  },
  {
   "cell_type": "code",
   "execution_count": null,
   "metadata": {
    "scrolled": false
   },
   "outputs": [],
   "source": [
    "df_input = etltool.get_input_df('patients_sample.csv')\n",
    "df_input.sample(3)"
   ]
  },
  {
   "cell_type": "markdown",
   "metadata": {},
   "source": [
    "### Structural Mapping\n",
    "\n",
    "Next we use another `csv` file to define how to map different fields in the source data to a [Common Data Model (CDM)](https://www.ohdsi.org/data-standardization/the-common-data-model/).\n",
    "\n",
    "In this example, the CDM that the source data (`patients_sample`)  is being mappped to is the `person` CDM.\n",
    "\n",
    "There are three rules defined:\n",
    "1. Performs a straight one-to-one mapping between the field `id` in the source field to the `person_id` field of the `person` CDM\n",
    "2. Performs a mapping with the operation/function `extract year` \n",
    "3. Performs a term mapping which is defined in the term mapping `csv` file, see the next section for more information \n"
   ]
  },
  {
   "cell_type": "code",
   "execution_count": null,
   "metadata": {},
   "outputs": [],
   "source": [
    "f_structural_mapping = 'sample_input_data/rules1.csv'\n",
    "etltool.load_structural_mapping(f_structural_mapping) \n",
    "etltool.get_structural_mapping_df()"
   ]
  },
  {
   "cell_type": "markdown",
   "metadata": {},
   "source": [
    "#### Testing operations\n",
    "The 2nd rule defined the operation `extract year`, this is a default operation defined in `etltool`, here is a quick example of how it works..\n",
    "\n",
    "Load the function"
   ]
  },
  {
   "cell_type": "code",
   "execution_count": null,
   "metadata": {},
   "outputs": [],
   "source": [
    "fn_extract_year = etltool.allowed_operations['EXTRACT_YEAR']\n",
    "fn_extract_year"
   ]
  },
  {
   "cell_type": "markdown",
   "metadata": {},
   "source": [
    "For example, taking the `BIRTHDATE` columns, which looks like:"
   ]
  },
  {
   "cell_type": "code",
   "execution_count": null,
   "metadata": {},
   "outputs": [],
   "source": [
    "df_input['BIRTHDATE'].head(4)"
   ]
  },
  {
   "cell_type": "markdown",
   "metadata": {},
   "source": [
    "The function can be used to easily extract the year from the date"
   ]
  },
  {
   "cell_type": "code",
   "execution_count": null,
   "metadata": {},
   "outputs": [],
   "source": [
    "fn_extract_year(df_input.head(4),column='BIRTHDATE')"
   ]
  },
  {
   "cell_type": "markdown",
   "metadata": {},
   "source": [
    "### Term Mapping\n",
    "\n",
    "In the term mapping, the structural mapping `rule_id` is mapped telling us how to map a source term to a destination term, i.e. if the source term is `M` then the output should be `8507`"
   ]
  },
  {
   "cell_type": "code",
   "execution_count": null,
   "metadata": {},
   "outputs": [],
   "source": [
    "f_term_mapping = 'sample_input_data/rules2.csv'\n",
    "etltool.load_term_mapping(f_term_mapping)\n",
    "etltool.get_term_mapping_df()"
   ]
  },
  {
   "cell_type": "markdown",
   "metadata": {},
   "source": [
    "### Run the tool"
   ]
  },
  {
   "cell_type": "code",
   "execution_count": null,
   "metadata": {},
   "outputs": [],
   "source": [
    "etltool.run()"
   ]
  },
  {
   "cell_type": "markdown",
   "metadata": {},
   "source": [
    "We can finally get the output in a dataframe"
   ]
  },
  {
   "cell_type": "code",
   "execution_count": null,
   "metadata": {},
   "outputs": [],
   "source": [
    "etltool.get_output_df('person')"
   ]
  }
 ],
 "metadata": {
  "kernelspec": {
   "display_name": "Python 3",
   "language": "python",
   "name": "python3"
  },
  "language_info": {
   "codemirror_mode": {
    "name": "ipython",
    "version": 3
   },
   "file_extension": ".py",
   "mimetype": "text/x-python",
   "name": "python",
   "nbconvert_exporter": "python",
   "pygments_lexer": "ipython3",
   "version": "3.8.0"
  }
 },
 "nbformat": 4,
 "nbformat_minor": 4
}
